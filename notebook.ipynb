{
 "cells": [
  {
   "cell_type": "code",
   "execution_count": 3,
   "id": "fb5c1107-e3b8-440f-872c-047e31f6e58f",
   "metadata": {},
   "outputs": [
    {
     "name": "stdout",
     "output_type": "stream",
     "text": [
      "Requirement already satisfied: pandas in c:\\users\\akshita\\appdata\\local\\programs\\python\\python312\\lib\\site-packages (2.2.3)\n",
      "Requirement already satisfied: numpy in c:\\users\\akshita\\appdata\\local\\programs\\python\\python312\\lib\\site-packages (2.2.4)\n",
      "Requirement already satisfied: matplotlib in c:\\users\\akshita\\appdata\\local\\programs\\python\\python312\\lib\\site-packages (3.10.1)\n",
      "Requirement already satisfied: seaborn in c:\\users\\akshita\\appdata\\local\\programs\\python\\python312\\lib\\site-packages (0.13.2)\n",
      "Requirement already satisfied: scikit-learn in c:\\users\\akshita\\appdata\\local\\programs\\python\\python312\\lib\\site-packages (1.7.0)\n",
      "Requirement already satisfied: python-dateutil>=2.8.2 in c:\\users\\akshita\\appdata\\local\\programs\\python\\python312\\lib\\site-packages (from pandas) (2.9.0.post0)\n",
      "Requirement already satisfied: pytz>=2020.1 in c:\\users\\akshita\\appdata\\local\\programs\\python\\python312\\lib\\site-packages (from pandas) (2025.2)\n",
      "Requirement already satisfied: tzdata>=2022.7 in c:\\users\\akshita\\appdata\\local\\programs\\python\\python312\\lib\\site-packages (from pandas) (2025.2)\n",
      "Requirement already satisfied: contourpy>=1.0.1 in c:\\users\\akshita\\appdata\\local\\programs\\python\\python312\\lib\\site-packages (from matplotlib) (1.3.1)\n",
      "Requirement already satisfied: cycler>=0.10 in c:\\users\\akshita\\appdata\\local\\programs\\python\\python312\\lib\\site-packages (from matplotlib) (0.12.1)\n",
      "Requirement already satisfied: fonttools>=4.22.0 in c:\\users\\akshita\\appdata\\local\\programs\\python\\python312\\lib\\site-packages (from matplotlib) (4.57.0)\n",
      "Requirement already satisfied: kiwisolver>=1.3.1 in c:\\users\\akshita\\appdata\\local\\programs\\python\\python312\\lib\\site-packages (from matplotlib) (1.4.8)\n",
      "Requirement already satisfied: packaging>=20.0 in c:\\users\\akshita\\appdata\\local\\programs\\python\\python312\\lib\\site-packages (from matplotlib) (24.2)\n",
      "Requirement already satisfied: pillow>=8 in c:\\users\\akshita\\appdata\\local\\programs\\python\\python312\\lib\\site-packages (from matplotlib) (11.2.1)\n",
      "Requirement already satisfied: pyparsing>=2.3.1 in c:\\users\\akshita\\appdata\\local\\programs\\python\\python312\\lib\\site-packages (from matplotlib) (3.2.3)\n",
      "Requirement already satisfied: scipy>=1.8.0 in c:\\users\\akshita\\appdata\\local\\programs\\python\\python312\\lib\\site-packages (from scikit-learn) (1.15.2)\n",
      "Requirement already satisfied: joblib>=1.2.0 in c:\\users\\akshita\\appdata\\local\\programs\\python\\python312\\lib\\site-packages (from scikit-learn) (1.5.1)\n",
      "Requirement already satisfied: threadpoolctl>=3.1.0 in c:\\users\\akshita\\appdata\\local\\programs\\python\\python312\\lib\\site-packages (from scikit-learn) (3.6.0)\n",
      "Requirement already satisfied: six>=1.5 in c:\\users\\akshita\\appdata\\local\\programs\\python\\python312\\lib\\site-packages (from python-dateutil>=2.8.2->pandas) (1.17.0)\n"
     ]
    },
    {
     "name": "stderr",
     "output_type": "stream",
     "text": [
      "\n",
      "[notice] A new release of pip is available: 25.0.1 -> 25.1.1\n",
      "[notice] To update, run: python.exe -m pip install --upgrade pip\n"
     ]
    }
   ],
   "source": [
    "!pip install pandas numpy matplotlib seaborn scikit-learn"
   ]
  },
  {
   "cell_type": "code",
   "execution_count": 4,
   "id": "76831e0e-74fb-463d-b496-bd1e0bf0ee2e",
   "metadata": {},
   "outputs": [
    {
     "name": "stdout",
     "output_type": "stream",
     "text": [
      "                                    _id  \\\n",
      "0  {'$oid': '681d38fed63812d4655f571a'}   \n",
      "1  {'$oid': '681aa70dd6df53021cc6f3c0'}   \n",
      "2  {'$oid': '681d04c2d63812d4654c733e'}   \n",
      "3  {'$oid': '681d133bd63812d46551b6ef'}   \n",
      "4  {'$oid': '681899e4ba49fc91cf2f4454'}   \n",
      "\n",
      "                                   userWallet  network protocol  \\\n",
      "0  0x00000000001accfa9cef68cf5371a23025b6d4b6  polygon  aave_v2   \n",
      "1  0x000000000051d07a4fb3bd10121a343d85818da6  polygon  aave_v2   \n",
      "2  0x000000000096026fb41fc39f9875d164bd82e2dc  polygon  aave_v2   \n",
      "3  0x000000000096026fb41fc39f9875d164bd82e2dc  polygon  aave_v2   \n",
      "4  0x0000000000e189dd664b9ab08a33c4839953852c  polygon  aave_v2   \n",
      "\n",
      "                                              txHash  \\\n",
      "0  0x695c69acf608fbf5d38e48ca5535e118cc213a89e3d6...   \n",
      "1  0xe6fc162c86b2928b0ba9b82bda672763665152b9de9d...   \n",
      "2  0xe2d7eb815c89331a734ed6f204a06c385a1b39040baa...   \n",
      "3  0x0d63a2eacd82b82f868db825ea7385e6bd8d046ee729...   \n",
      "4  0x590eabb812c5006a6f4766f44e6e9d3ad0b5b563de69...   \n",
      "\n",
      "                                               logId   timestamp  blockNumber  \\\n",
      "0  0x695c69acf608fbf5d38e48ca5535e118cc213a89e3d6...  1629178166   1629178166   \n",
      "1  0xe6fc162c86b2928b0ba9b82bda672763665152b9de9d...  1621525013   1621525013   \n",
      "2  0xe2d7eb815c89331a734ed6f204a06c385a1b39040baa...  1627118913   1627118913   \n",
      "3  0x0d63a2eacd82b82f868db825ea7385e6bd8d046ee729...  1627773318   1627773318   \n",
      "4  0x590eabb812c5006a6f4766f44e6e9d3ad0b5b563de69...  1618845907   1618845907   \n",
      "\n",
      "             action                                         actionData  __v  \\\n",
      "0           deposit  {'type': 'Deposit', 'amount': '2000000000', 'a...    0   \n",
      "1           deposit  {'type': 'Deposit', 'amount': '145000000000000...    0   \n",
      "2           deposit  {'type': 'Deposit', 'amount': '100000000000000...    0   \n",
      "3           deposit  {'type': 'Deposit', 'amount': '400000000000000...    0   \n",
      "4  redeemunderlying  {'type': 'RedeemUnderlying', 'amount': '501548...    0   \n",
      "\n",
      "                               createdAt  \\\n",
      "0  {'$date': '2025-05-08T23:06:39.465Z'}   \n",
      "1  {'$date': '2025-05-07T00:19:26.159Z'}   \n",
      "2  {'$date': '2025-05-08T19:23:47.877Z'}   \n",
      "3  {'$date': '2025-05-08T20:25:33.141Z'}   \n",
      "4  {'$date': '2025-05-05T10:58:45.934Z'}   \n",
      "\n",
      "                               updatedAt  \n",
      "0  {'$date': '2025-05-08T23:06:39.465Z'}  \n",
      "1  {'$date': '2025-05-07T00:19:26.159Z'}  \n",
      "2  {'$date': '2025-05-08T19:23:47.877Z'}  \n",
      "3  {'$date': '2025-05-08T20:25:33.141Z'}  \n",
      "4  {'$date': '2025-05-05T10:58:45.934Z'}  \n"
     ]
    }
   ],
   "source": [
    "import json\n",
    "import pandas as pd\n",
    "\n",
    "with open('user-wallet-transactions.json') as f:\n",
    "    data = json.load(f)\n",
    "\n",
    "df = pd.DataFrame(data)\n",
    "print(df.head())"
   ]
  },
  {
   "cell_type": "code",
   "execution_count": 5,
   "id": "a038edfb-6ab8-48da-a0ae-753ebd1e922a",
   "metadata": {},
   "outputs": [
    {
     "name": "stdout",
     "output_type": "stream",
     "text": [
      "                                   userWallet  num_borrows  num_deposits  \\\n",
      "0  0x00000000001accfa9cef68cf5371a23025b6d4b6            0             1   \n",
      "1  0x000000000051d07a4fb3bd10121a343d85818da6            0             1   \n",
      "2  0x000000000096026fb41fc39f9875d164bd82e2dc            0             2   \n",
      "3  0x0000000000e189dd664b9ab08a33c4839953852c            0             0   \n",
      "4  0x0000000002032370b971dabd36d72f3e5a7bf1ee           15           250   \n",
      "\n",
      "   num_liquidations  num_withdrawals  num_repayments  total_transactions  \\\n",
      "0                 0                0               0                   1   \n",
      "1                 0                0               0                   1   \n",
      "2                 0                0               0                   2   \n",
      "3                 0               17               0                  17   \n",
      "4                 0              130               4                 399   \n",
      "\n",
      "   borrow_repay_ratio  \n",
      "0              999.00  \n",
      "1              999.00  \n",
      "2              999.00  \n",
      "3              999.00  \n",
      "4                3.75  \n"
     ]
    }
   ],
   "source": [
    "# Count of each action per wallet\n",
    "wallet_actions = df.groupby(['userWallet', 'action']).size().unstack(fill_value=0)\n",
    "\n",
    "# Rename columns for easier handling\n",
    "wallet_actions.columns = ['num_borrows' if 'borrow' in col else\n",
    "                          'num_repayments' if 'repay' in col else\n",
    "                          'num_liquidations' if 'liquidation' in col else\n",
    "                          'num_withdrawals' if 'redeem' in col else\n",
    "                          'num_deposits' for col in wallet_actions.columns]\n",
    "\n",
    "# Fill missing possible columns\n",
    "for col in ['num_borrows', 'num_repayments', 'num_liquidations', 'num_withdrawals', 'num_deposits']:\n",
    "    if col not in wallet_actions.columns:\n",
    "        wallet_actions[col] = 0\n",
    "\n",
    "# Add total actions\n",
    "wallet_actions['total_transactions'] = wallet_actions.sum(axis=1)\n",
    "\n",
    "# Add borrow/repay ratio (handle divide-by-zero cases)\n",
    "wallet_actions['borrow_repay_ratio'] = wallet_actions.apply(\n",
    "    lambda row: row['num_borrows'] / row['num_repayments'] if row['num_repayments'] > 0 else 999,\n",
    "    axis=1\n",
    ")\n",
    "\n",
    "wallet_actions.reset_index(inplace=True)\n",
    "\n",
    "print(wallet_actions.head())"
   ]
  },
  {
   "cell_type": "code",
   "execution_count": 6,
   "id": "1270c191-4e09-44e1-be34-a7b8dc0bb431",
   "metadata": {},
   "outputs": [
    {
     "name": "stdout",
     "output_type": "stream",
     "text": [
      "                                   userWallet  credit_score\n",
      "0  0x00000000001accfa9cef68cf5371a23025b6d4b6           405\n",
      "1  0x000000000051d07a4fb3bd10121a343d85818da6           405\n",
      "2  0x000000000096026fb41fc39f9875d164bd82e2dc           410\n",
      "3  0x0000000000e189dd664b9ab08a33c4839953852c           400\n",
      "4  0x0000000002032370b971dabd36d72f3e5a7bf1ee          1000\n"
     ]
    }
   ],
   "source": [
    "def calculate_score(row):\n",
    "    score = 400  # base score\n",
    "\n",
    "    # Good behaviors\n",
    "    score += row['num_deposits'] * 5\n",
    "    score += row['num_repayments'] * 10\n",
    "\n",
    "    # Risky behaviors\n",
    "    score -= row['num_borrows'] * 2\n",
    "    score -= row['num_liquidations'] * 100\n",
    "\n",
    "    # Heavily penalize if they borrowed more than they repaid\n",
    "    if row['borrow_repay_ratio'] > 1.5 and row['num_borrows'] > 0:\n",
    "        score -= 100\n",
    "\n",
    "    # Keep the score in the 0–1000 range\n",
    "    return max(0, min(score, 1000))\n",
    "\n",
    "wallet_actions['credit_score'] = wallet_actions.apply(calculate_score, axis=1)\n",
    "print(wallet_actions[['userWallet', 'credit_score']].head())"
   ]
  },
  {
   "cell_type": "code",
   "execution_count": 9,
   "id": "cc8c8d12-67c0-43a1-920d-9f735e0989a7",
   "metadata": {},
   "outputs": [
    {
     "data": {
      "image/png": "[encoded data removed]",
      "text/plain": [
       "<Figure size 700x600 with 1 Axes>"
      ]
     },
     "metadata": {},
     "output_type": "display_data"
    }
   ],
   "source": [
    "import seaborn as sns\n",
    "import matplotlib.pyplot as plt\n",
    "\n",
    "plt.figure(figsize=(7, 6))\n",
    "sns.histplot(wallet_actions['credit_score'], bins=10, kde=True, color='mediumseagreen')\n",
    "plt.title(\"Credit Score Distribution of Wallets\")\n",
    "plt.xlabel(\"Credit Score\")\n",
    "plt.ylabel(\"Number of Wallets\")\n",
    "plt.grid(True)\n",
    "plt.tight_layout()\n",
    "plt.savefig(\"score_distribution.png\")\n",
    "plt.show()"
   ]
  },
  {
   "cell_type": "code",
   "execution_count": 8,
   "id": "e542b8b8-7b95-4731-9736-2cb35ad9c74d",
   "metadata": {},
   "outputs": [
    {
     "name": "stdout",
     "output_type": "stream",
     "text": [
      "score_range\n",
      "(0, 100]          4\n",
      "(100, 200]       17\n",
      "(200, 300]       32\n",
      "(300, 400]      732\n",
      "(400, 500]     2263\n",
      "(500, 600]      155\n",
      "(600, 700]       76\n",
      "(700, 800]       70\n",
      "(800, 900]       23\n",
      "(900, 1000]     114\n",
      "Name: count, dtype: int64\n"
     ]
    }
   ],
   "source": [
    "bins = [0,100,200,300,400,500,600,700,800,900,1000]\n",
    "wallet_actions['score_range'] = pd.cut(wallet_actions['credit_score'], bins)\n",
    "\n",
    "score_distribution = wallet_actions['score_range'].value_counts().sort_index()\n",
    "print(score_distribution)"
   ]
  },
  {
   "cell_type": "code",
   "execution_count": null,
   "id": "96419b11-66ae-4096-8dac-d32f95bd536a",
   "metadata": {},
   "outputs": [],
   "source": []
  }
 ],
 "metadata": {
  "kernelspec": {
   "display_name": "Python 3 (ipykernel)",
   "language": "python",
   "name": "python3"
  },
  "language_info": {
   "codemirror_mode": {
    "name": "ipython",
    "version": 3
   },
   "file_extension": ".py",
   "mimetype": "text/x-python",
   "name": "python",
   "nbconvert_exporter": "python",
   "pygments_lexer": "ipython3",
   "version": "3.12.6"
  }
 },
 "nbformat": 4,
 "nbformat_minor": 5
}
